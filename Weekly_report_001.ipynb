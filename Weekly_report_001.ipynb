{
 "metadata": {
  "language_info": {
   "codemirror_mode": {
    "name": "ipython",
    "version": 3
   },
   "file_extension": ".py",
   "mimetype": "text/x-python",
   "name": "python",
   "nbconvert_exporter": "python",
   "pygments_lexer": "ipython3",
   "version": "3.7.4"
  },
  "orig_nbformat": 2,
  "kernelspec": {
   "name": "python374jvsc74a57bd026f841f20090930957edb7be51bff64e308052820a55c82a4173db44db40100d",
   "display_name": "Python 3.7.4 64-bit ('base': conda)"
  }
 },
 "nbformat": 4,
 "nbformat_minor": 2,
 "cells": [
  {
   "source": [
    "# Retail weekly report\n",
    "\n",
    "## *Version : Alpha 01*"
   ],
   "cell_type": "markdown",
   "metadata": {}
  },
  {
   "source": [
    "1) Collecte des données\n",
    "* Chargement des fichiers \n",
    "* Formattage en dataframe : zones et point de passage\n",
    "* Création des données complémentaires (jours, numero de semaines, année)\n",
    "\n",
    "2) Traitement\n",
    "* Indicateurs globaux\n",
    "* Comparatifs sites\n",
    "* Donnée site de référence\n",
    "\n",
    "3) Génération du rapport\n",
    "* Indicateurs globaux\n",
    "* Comparatifs sites\n",
    "* Données par site"
   ],
   "cell_type": "markdown",
   "metadata": {}
  },
  {
   "source": [
    "# 0) Initialisation\n",
    "\n",
    "* Mise en place des librairies standard\n",
    "* Chargement des modules utilisateurs\n",
    "* Définition des variables globales"
   ],
   "cell_type": "markdown",
   "metadata": {}
  },
  {
   "cell_type": "code",
   "execution_count": 48,
   "metadata": {},
   "outputs": [],
   "source": [
    "# Imports\n",
    "\n",
    "import pandas as pd\n",
    "import xlsxwriter as xw\n",
    "\n",
    "from datetime import datetime"
   ]
  },
  {
   "cell_type": "code",
   "execution_count": 49,
   "metadata": {},
   "outputs": [],
   "source": [
    "# Key constants\n",
    "\n",
    "WEEK_DAYS = ['Lundi','Mardi','Mercredi','Jeudi','Vendredi','Samedi','Dimanche']\n",
    "WEEK_DAYS_ABBR = ['Lun','Mar','Mer','Jeu','Ven','Sam','Dim']\n",
    "\n",
    "RAW_DATA_PATH = \"raw_data/\"\n",
    "MEDIA_PATH = \"media/\"\n",
    "OUTPUT_PATH = \"xlsx_output/\"\n",
    "\n",
    "ZONE_RAW_FILE = \"Carrefour_hyper_KPIs_1-March-2021_to_1-June-2021_zone.xlsx\"\n",
    "PASSAGE_RAW_FILE = \"Carrefour_hyper_KPIs_1-March-2021_to_1-June-2021_passage.xlsx\""
   ]
  },
  {
   "cell_type": "code",
   "execution_count": null,
   "metadata": {},
   "outputs": [],
   "source": []
  },
  {
   "source": [
    "# 1) Collecte des données"
   ],
   "cell_type": "markdown",
   "metadata": {}
  },
  {
   "source": [
    "## 1.1 ) Chargement des données"
   ],
   "cell_type": "markdown",
   "metadata": {}
  },
  {
   "source": [
    "Prérequis :\n",
    "* Periode bien définie, commençant par un lundi et finissant par un dimanche, au moins deux semaines\n",
    "* Contient tous les magasins du réseau à analyser\n",
    "\n",
    "Fichiers :\n",
    "* KPI sur periode par passage.xlsx\n",
    "* KPI sur periode par zone.xlsx\n",
    "\n",
    "Erreurs possibles :\n",
    "* Non prise en compte d'erreurs de capture d'information / d'informations manquantes\n"
   ],
   "cell_type": "markdown",
   "metadata": {}
  },
  {
   "cell_type": "code",
   "execution_count": 50,
   "metadata": {},
   "outputs": [],
   "source": [
    "# load passage & zone\n",
    "df_passage_raw = pd.read_excel(RAW_DATA_PATH + PASSAGE_RAW_FILE) \n",
    "df_zone_raw = pd.read_excel(RAW_DATA_PATH + ZONE_RAW_FILE) \n"
   ]
  },
  {
   "source": [
    "## 2.2) Retraitements specifiques "
   ],
   "cell_type": "markdown",
   "metadata": {}
  },
  {
   "source": [
    "**TRAITEMENT SPECIAL 1 : renommer la colonne Date.1 en Hour**"
   ],
   "cell_type": "markdown",
   "metadata": {}
  },
  {
   "cell_type": "code",
   "execution_count": 51,
   "metadata": {},
   "outputs": [],
   "source": [
    "# Date.1 -> Hour dans le titre de colonne\n",
    "\n",
    "df_passage_raw.rename(columns = {'Date.1': 'Hour'}, inplace = True)"
   ]
  },
  {
   "source": [
    "**TRAITEMENT SPECIAL : correction des fichiers démarrants à :40 ... (décalage vers 8:00 -> données fausses)**"
   ],
   "cell_type": "markdown",
   "metadata": {}
  },
  {
   "cell_type": "code",
   "execution_count": 52,
   "metadata": {},
   "outputs": [],
   "source": [
    "# corrige / normalise les décalages horaires - attention pas normal d'avoir des slots qui commencent :40 ...\n",
    "df_passage_raw['Hour'] = df_passage_raw['Hour'].str.replace(':40',':00')\n",
    "df_zone_raw['Hour'] = df_zone_raw['Hour'].str.replace(':40',':00')"
   ]
  },
  {
   "cell_type": "code",
   "execution_count": 53,
   "metadata": {},
   "outputs": [],
   "source": [
    "## 2.3) Création des champs utiles : Week, DayNb"
   ]
  },
  {
   "source": [
    "Ajout d'une colonne année Year, mois Month, semaine Week, numéro du jour DayInWeek pour faire des regroupements\n",
    "\n",
    "Les dates suivent la norme ISO 8601 : numérotation à partir de 01, lundi est le 1er jour de la semaine (donc jours vont de 1 à 7)"
   ],
   "cell_type": "markdown",
   "metadata": {}
  },
  {
   "source": [
    "https://docs.python.org/3/library/datetime.html\n",
    "\n",
    "https://stackoverflow.com/questions/2600775/how-to-get-week-number-in-python\n",
    "\n",
    "https://docs.python.org/3/library/datetime.html#strftime-and-strptime-behavior"
   ],
   "cell_type": "markdown",
   "metadata": {}
  },
  {
   "cell_type": "code",
   "execution_count": 54,
   "metadata": {},
   "outputs": [],
   "source": [
    "# constante pour isocalendar\n",
    "YEAR_ISO = 0\n",
    "WEEK_ISO = 1\n",
    "DAYNB_ISO = 2\n",
    "DATE_FORMAT = \"%d/%m/%Y\"\n",
    "\n",
    "def get_iso_date_from_string(iso_info, string_date):\n",
    "    a_date = datetime.strptime(string_date, DATE_FORMAT)\n",
    "    return a_date.isocalendar()[iso_info]\n",
    "\n",
    "def add_iso_date_col_to_df(df):\n",
    "    new_df = df\n",
    "    new_df['Year']= df['Date'].map(lambda x: get_iso_date_from_string(YEAR_ISO, x))\n",
    "    new_df['Month']= df['Date'].map(lambda x: datetime.strptime(x, DATE_FORMAT).month)   \n",
    "    new_df['Week']= df['Date'].map(lambda x: get_iso_date_from_string(WEEK_ISO, x))\n",
    "    new_df['DayInWeek']= df['Date'].map(lambda x: get_iso_date_from_string(DAYNB_ISO, x))\n",
    "    return new_df"
   ]
  },
  {
   "cell_type": "code",
   "execution_count": 55,
   "metadata": {},
   "outputs": [],
   "source": [
    "df_passage_raw_2 = add_iso_date_col_to_df(df_passage_raw)\n",
    "df_zone_raw_2 = add_iso_date_col_to_df(df_zone_raw)"
   ]
  },
  {
   "cell_type": "code",
   "execution_count": 56,
   "metadata": {},
   "outputs": [],
   "source": [
    "df_passage_raw_2_columns = list(df_passage_raw_2.columns)\n",
    "df_zone_raw_2_columns = list(df_zone_raw_2.columns)"
   ]
  },
  {
   "cell_type": "code",
   "execution_count": 58,
   "metadata": {},
   "outputs": [],
   "source": [
    "list_of_sites_passage = df_passage_raw_2['Passage'].unique().tolist()\n",
    "list_of_sites_zone = df_zone_raw_2['Zone'].unique().tolist()"
   ]
  },
  {
   "cell_type": "code",
   "execution_count": null,
   "metadata": {},
   "outputs": [],
   "source": []
  },
  {
   "cell_type": "code",
   "execution_count": null,
   "metadata": {},
   "outputs": [],
   "source": []
  }
 ]
}