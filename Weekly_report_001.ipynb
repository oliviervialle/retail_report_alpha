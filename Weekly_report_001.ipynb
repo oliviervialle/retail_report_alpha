{
 "metadata": {
  "language_info": {
   "codemirror_mode": {
    "name": "ipython",
    "version": 3
   },
   "file_extension": ".py",
   "mimetype": "text/x-python",
   "name": "python",
   "nbconvert_exporter": "python",
   "pygments_lexer": "ipython3",
   "version": "3.7.4"
  },
  "orig_nbformat": 2,
  "kernelspec": {
   "name": "python374jvsc74a57bd026f841f20090930957edb7be51bff64e308052820a55c82a4173db44db40100d",
   "display_name": "Python 3.7.4 64-bit ('base': conda)"
  }
 },
 "nbformat": 4,
 "nbformat_minor": 2,
 "cells": [
  {
   "source": [
    "# Retail weekly report\n",
    "\n",
    "## *Version : Alpha 01*"
   ],
   "cell_type": "markdown",
   "metadata": {}
  },
  {
   "source": [
    "1) Collecte des données\n",
    "* Chargement des fichiers \n",
    "* Formattage en dataframe : zones et point de passage\n",
    "* Création des données complémentaires (jours, numero de semaines, année)\n",
    "\n",
    "2) Traitement\n",
    "* Indicateurs globaux\n",
    "* Comparatifs sites\n",
    "* Donnée site de référence\n",
    "\n",
    "3) Génération du rapport\n",
    "* Indicateurs globaux\n",
    "* Comparatifs sites\n",
    "* Données par site"
   ],
   "cell_type": "markdown",
   "metadata": {}
  },
  {
   "source": [
    "# 0) Initialisation\n",
    "\n",
    "* Mise en place des librairies standard\n",
    "* Chargement des modules utilisateurs\n",
    "* Définition des variables globales"
   ],
   "cell_type": "markdown",
   "metadata": {}
  },
  {
   "cell_type": "code",
   "execution_count": null,
   "metadata": {},
   "outputs": [],
   "source": [
    "# Imports\n",
    "\n",
    "import pandas as pd\n",
    "import xlsxwriter as xw\n",
    "\n",
    "from datetime import datetime"
   ]
  },
  {
   "cell_type": "code",
   "execution_count": null,
   "metadata": {},
   "outputs": [],
   "source": [
    "# Key constants\n",
    "\n",
    "WEEK_DAYS = ['Lundi','Mardi','Mercredi','Jeudi','Vendredi','Samedi','Dimanche']\n",
    "WEEK_DAYS_ABBR = ['Lun','Mar','Mer','Jeu','Ven','Sam','Dim']\n",
    "\n",
    "RAW_DATA_PATH = \"raw_data/\"\n",
    "MEDIA_PATH = \"media/\"\n",
    "OUTPUT_PATH = \"xlsx_output/\"\n",
    "\n",
    "ZONE_RAW_FILE = \"Carrefour_hyper_KPIs_1-March-2021_to_1-June-2021_zone.xlsx\"\n",
    "PASSAGE_RAW_FILE = \"Carrefour_hyper_KPIs_1-March-2021_to_1-June-2021_passage.xlsx\""
   ]
  },
  {
   "cell_type": "code",
   "execution_count": null,
   "metadata": {},
   "outputs": [],
   "source": []
  },
  {
   "source": [
    "# 1) Collecte des données"
   ],
   "cell_type": "markdown",
   "metadata": {}
  },
  {
   "source": [
    "Prérequis :\n",
    "* Periode bien définie, commençant par un lundi et finissant par un dimanche, au moins deux semaines\n",
    "* Contient tous les magasins du réseau à analyser\n",
    "\n",
    "Fichiers :\n",
    "* KPI sur periode par passage.xlsx\n",
    "* KPI sur periode par zone.xlsx\n",
    "\n",
    "Erreurs possibles :\n",
    "* Non prise en compte d'erreurs de capture d'information / d'informations manquantes\n"
   ],
   "cell_type": "markdown",
   "metadata": {}
  },
  {
   "cell_type": "code",
   "execution_count": 27,
   "metadata": {},
   "outputs": [],
   "source": [
    "# load passage & zone\n",
    "df_passage_raw = pd.read_excel(RAW_DATA_PATH + PASSAGE_RAW_FILE) \n",
    "df_zone_raw = pd.read_excel(RAW_DATA_PATH + ZONE_RAW_FILE) \n"
   ]
  },
  {
   "source": [
    "**TRAITEMENT SPECIAL 1 : renommer la colonne Date.1 en Hour**"
   ],
   "cell_type": "markdown",
   "metadata": {}
  },
  {
   "cell_type": "code",
   "execution_count": 34,
   "metadata": {},
   "outputs": [],
   "source": [
    "# Date.1 -> Hour dans le titre de colonne\n",
    "\n",
    "df_passage_raw.rename(columns = {'Date.1': 'Hour'}, inplace = True)"
   ]
  },
  {
   "source": [
    "**TRAITEMENT SPECIAL : correction des fichiers démarrants à :40 ... (décalage vers 8:00 -> données fausses)**"
   ],
   "cell_type": "markdown",
   "metadata": {}
  },
  {
   "cell_type": "code",
   "execution_count": 32,
   "metadata": {},
   "outputs": [],
   "source": [
    "# corrige / normalise les décalages horaires - attention pas normal d'avoir des slots qui commencent :40 ...\n",
    "df_passage_raw['Hour'] = df_passage_raw['Hour'].str.replace(':40',':00')\n",
    "df_zone_raw['Hour'] = df_zone_raw['Hour'].str.replace(':40',':00')"
   ]
  }
 ]
}